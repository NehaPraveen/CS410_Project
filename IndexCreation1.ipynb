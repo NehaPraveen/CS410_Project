{
 "cells": [
  {
   "cell_type": "code",
   "execution_count": 45,
   "metadata": {},
   "outputs": [],
   "source": [
    "\n",
    "from collections import defaultdict\n",
    "import csv\n",
    "\n",
    "\n"
   ]
  },
  {
   "cell_type": "code",
   "execution_count": 48,
   "metadata": {},
   "outputs": [
    {
     "name": "stdout",
     "output_type": "stream",
     "text": [
      "['TSPAN6', '336.82', 'HSB312_27_H4']\n",
      "['336.82', 'HSB312_27_H4']\n",
      "defaultdict(<class 'list'>, {'TSPAN6': [['336.82', 'HSB312_27_H4']]})\n",
      "['GCLC', '1.28', 'HSB312_27_H4']\n",
      "['1.28', 'HSB312_27_H4']\n",
      "defaultdict(<class 'list'>, {'GCLC': [['1.28', 'HSB312_27_H4']]})\n",
      "['NFYA', '116.99', 'HSB312_27_H4']\n",
      "['116.99', 'HSB312_27_H4']\n",
      "defaultdict(<class 'list'>, {'NFYA': [['116.99', 'HSB312_27_H4']]})\n",
      "['LAS1L', '43.13', 'HSB312_27_H4']\n",
      "['43.13', 'HSB312_27_H4']\n",
      "defaultdict(<class 'list'>, {'LAS1L': [['43.13', 'HSB312_27_H4']]})\n",
      "['ANKIB1', '0.74', 'HSB312_27_H4']\n",
      "['0.74', 'HSB312_27_H4']\n",
      "defaultdict(<class 'list'>, {'ANKIB1': [['0.74', 'HSB312_27_H4']]})\n",
      "['CYP51A1', '143.3', 'HSB312_27_H4']\n",
      "['143.3', 'HSB312_27_H4']\n",
      "defaultdict(<class 'list'>, {'CYP51A1': [['143.3', 'HSB312_27_H4']]})\n",
      "['KRIT1', '5.62', 'HSB312_27_H4']\n",
      "['5.62', 'HSB312_27_H4']\n",
      "defaultdict(<class 'list'>, {'KRIT1': [['5.62', 'HSB312_27_H4']]})\n",
      "['RAD52', '13.81', 'HSB312_27_H4']\n",
      "['13.81', 'HSB312_27_H4']\n",
      "defaultdict(<class 'list'>, {'RAD52': [['13.81', 'HSB312_27_H4']]})\n",
      "['BAD', '15.66', 'HSB312_27_H4']\n",
      "['15.66', 'HSB312_27_H4']\n",
      "defaultdict(<class 'list'>, {'BAD': [['15.66', 'HSB312_27_H4']]})\n",
      "['LAP3', '0.9', 'HSB312_27_H4']\n",
      "['0.9', 'HSB312_27_H4']\n",
      "defaultdict(<class 'list'>, {'LAP3': [['0.9', 'HSB312_27_H4']]})\n"
     ]
    }
   ],
   "source": [
    "\n",
    "with open(\"cs410_gene_expression_counts_example.csv\") as f:\n",
    "    readCSV=csv.reader(f, delimiter=',')\n",
    "    next(readCSV, None)\n",
    "    for line in readCSV:\n",
    "        d = defaultdict(list)\n",
    "        print(line)\n",
    "        print(line[1:])\n",
    "        d[line[0]].append(line[1:])\n",
    "        print(d)\n",
    "        #d.default_factory\n",
    "\n",
    "        \n",
    "    "
   ]
  },
  {
   "cell_type": "code",
   "execution_count": null,
   "metadata": {},
   "outputs": [],
   "source": []
  },
  {
   "cell_type": "code",
   "execution_count": null,
   "metadata": {},
   "outputs": [],
   "source": []
  },
  {
   "cell_type": "code",
   "execution_count": null,
   "metadata": {},
   "outputs": [],
   "source": []
  }
 ],
 "metadata": {
  "kernelspec": {
   "display_name": "Python 3",
   "language": "python",
   "name": "python3"
  },
  "language_info": {
   "codemirror_mode": {
    "name": "ipython",
    "version": 3
   },
   "file_extension": ".py",
   "mimetype": "text/x-python",
   "name": "python",
   "nbconvert_exporter": "python",
   "pygments_lexer": "ipython3",
   "version": "3.6.4"
  }
 },
 "nbformat": 4,
 "nbformat_minor": 2
}
