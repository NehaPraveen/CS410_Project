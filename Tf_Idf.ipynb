{
 "cells": [
  {
   "cell_type": "code",
   "execution_count": 140,
   "metadata": {},
   "outputs": [],
   "source": [
    "import pandas as pd\n",
    "import numpy as np\n",
    "import gensim\n",
    "import math\n",
    "\n",
    "df = pd.read_csv('GTEx_scRNAseq_genes_TPM.final.csv')\n",
    "\n"
   ]
  },
  {
   "cell_type": "code",
   "execution_count": 139,
   "metadata": {},
   "outputs": [
    {
     "name": "stdout",
     "output_type": "stream",
     "text": [
      "{0: 0.4011438285742937, 1: 0.8806786038996696, 2: 0.6391018382934383, 3: -0.4065154435644347}\n",
      "{0: 0.3019069469777354, 1: 0.06106103437794843, 2: 0.4304016452566429, 3: 0.1253312213588232}\n",
      "{0: 0.25675914989555537, 1: -0.5560702438609831, 2: 0.508527644458449, 3: 0.8199829978273354}\n"
     ]
    }
   ],
   "source": [
    "#rowindexes as bag of words\n",
    "bow=df.index.values\n",
    "#calculating doc freq for each word.\n",
    "docfreq_dict=dict.fromkeys(bow,0)\n",
    "for key,value in docfreq_dict.items():\n",
    "    docfreq_dict[key]=np.sum(df.iloc[key]!=0)\n",
    "#total no of documents in the corpus        \n",
    "M=len(df.columns)\n",
    "\n",
    "\n",
    "def computeTFIDF(docdict): \n",
    "#calculating tf_idf of each document vector(i.e each col in the dataset.)    \n",
    "    idfDict = dict.fromkeys(bow, 0)\n",
    "    tf_idfdict=dict.fromkeys(bow,0)\n",
    "    for word, val in docfreq_dict.items():\n",
    "        idfDict[word]=math.log10(M +1/ float(val))\n",
    "   \n",
    "    for word,val in docdict.items():\n",
    "        tf_idfdict[word]=val * idfDict[word]\n",
    "\n",
    "    return tf_idfdict\n",
    "\n",
    "\n",
    "#Converting each col in the dataset into a dictionary.\n",
    "#and calling function to calculate tf_idf for each word in the document and storing tf_idf weights in a dictionary.\n",
    "for j in range(len(df.columns.tolist())):\n",
    "    col=(df.iloc[:,j]).tolist()\n",
    "    doctdict={}\n",
    "    for ind,val in enumerate(col):\n",
    "        doctdict[ind]=val        \n",
    "    tf_idfdict=computeTFIDF(doctdict)\n",
    "    print(tf_idfdict)\n",
    "    \n",
    "\n",
    "        \n",
    "    \n",
    "    \n",
    "\n",
    "\n",
    "      \n",
    "   \n",
    "    \n",
    "\n",
    "\n",
    "    \n",
    "\n",
    "    \n",
    "   \n",
    "\n",
    "\n",
    "\n",
    "   \n",
    "   \n",
    "    \n",
    "    \n",
    "    "
   ]
  },
  {
   "cell_type": "code",
   "execution_count": null,
   "metadata": {},
   "outputs": [],
   "source": []
  },
  {
   "cell_type": "code",
   "execution_count": null,
   "metadata": {},
   "outputs": [],
   "source": []
  }
 ],
 "metadata": {
  "kernelspec": {
   "display_name": "Python 3",
   "language": "python",
   "name": "python3"
  },
  "language_info": {
   "codemirror_mode": {
    "name": "ipython",
    "version": 3
   },
   "file_extension": ".py",
   "mimetype": "text/x-python",
   "name": "python",
   "nbconvert_exporter": "python",
   "pygments_lexer": "ipython3",
   "version": "3.6.4"
  }
 },
 "nbformat": 4,
 "nbformat_minor": 2
}
